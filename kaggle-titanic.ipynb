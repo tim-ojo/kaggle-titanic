{
 "cells": [
  {
   "cell_type": "code",
   "execution_count": 1,
   "metadata": {
    "collapsed": false
   },
   "outputs": [],
   "source": [
    "%matplotlib inline\n",
    "\n",
    "import numpy as np\n",
    "import pandas as pd\n",
    "import matplotlib.pyplot as plt\n",
    "from sklearn.model_selection import cross_val_score\n",
    "from sklearn.model_selection import GridSearchCV\n",
    "from sklearn.preprocessing import StandardScaler\n",
    "from sklearn.preprocessing import MinMaxScaler\n",
    "from sklearn.pipeline import make_pipeline\n",
    "from sklearn.svm import SVC\n",
    "from sklearn.metrics import accuracy_score\n",
    "from sklearn.metrics import classification_report\n",
    "\n",
    "pd.options.mode.chained_assignment = None  # default='warn'"
   ]
  },
  {
   "cell_type": "markdown",
   "metadata": {},
   "source": [
    "**Import the data into dataframes**"
   ]
  },
  {
   "cell_type": "code",
   "execution_count": 2,
   "metadata": {
    "collapsed": false
   },
   "outputs": [
    {
     "data": {
      "text/html": [
       "<div>\n",
       "<style>\n",
       "    .dataframe thead tr:only-child th {\n",
       "        text-align: right;\n",
       "    }\n",
       "\n",
       "    .dataframe thead th {\n",
       "        text-align: left;\n",
       "    }\n",
       "\n",
       "    .dataframe tbody tr th {\n",
       "        vertical-align: top;\n",
       "    }\n",
       "</style>\n",
       "<table border=\"1\" class=\"dataframe\">\n",
       "  <thead>\n",
       "    <tr style=\"text-align: right;\">\n",
       "      <th></th>\n",
       "      <th>PassengerId</th>\n",
       "      <th>Survived</th>\n",
       "      <th>Pclass</th>\n",
       "      <th>Name</th>\n",
       "      <th>Sex</th>\n",
       "      <th>Age</th>\n",
       "      <th>SibSp</th>\n",
       "      <th>Parch</th>\n",
       "      <th>Ticket</th>\n",
       "      <th>Fare</th>\n",
       "      <th>Cabin</th>\n",
       "      <th>Embarked</th>\n",
       "    </tr>\n",
       "  </thead>\n",
       "  <tbody>\n",
       "    <tr>\n",
       "      <th>0</th>\n",
       "      <td>1</td>\n",
       "      <td>0</td>\n",
       "      <td>3</td>\n",
       "      <td>Braund, Mr. Owen Harris</td>\n",
       "      <td>male</td>\n",
       "      <td>22.0</td>\n",
       "      <td>1</td>\n",
       "      <td>0</td>\n",
       "      <td>A/5 21171</td>\n",
       "      <td>7.2500</td>\n",
       "      <td>NaN</td>\n",
       "      <td>S</td>\n",
       "    </tr>\n",
       "    <tr>\n",
       "      <th>1</th>\n",
       "      <td>2</td>\n",
       "      <td>1</td>\n",
       "      <td>1</td>\n",
       "      <td>Cumings, Mrs. John Bradley (Florence Briggs Th...</td>\n",
       "      <td>female</td>\n",
       "      <td>38.0</td>\n",
       "      <td>1</td>\n",
       "      <td>0</td>\n",
       "      <td>PC 17599</td>\n",
       "      <td>71.2833</td>\n",
       "      <td>C85</td>\n",
       "      <td>C</td>\n",
       "    </tr>\n",
       "    <tr>\n",
       "      <th>2</th>\n",
       "      <td>3</td>\n",
       "      <td>1</td>\n",
       "      <td>3</td>\n",
       "      <td>Heikkinen, Miss. Laina</td>\n",
       "      <td>female</td>\n",
       "      <td>26.0</td>\n",
       "      <td>0</td>\n",
       "      <td>0</td>\n",
       "      <td>STON/O2. 3101282</td>\n",
       "      <td>7.9250</td>\n",
       "      <td>NaN</td>\n",
       "      <td>S</td>\n",
       "    </tr>\n",
       "    <tr>\n",
       "      <th>3</th>\n",
       "      <td>4</td>\n",
       "      <td>1</td>\n",
       "      <td>1</td>\n",
       "      <td>Futrelle, Mrs. Jacques Heath (Lily May Peel)</td>\n",
       "      <td>female</td>\n",
       "      <td>35.0</td>\n",
       "      <td>1</td>\n",
       "      <td>0</td>\n",
       "      <td>113803</td>\n",
       "      <td>53.1000</td>\n",
       "      <td>C123</td>\n",
       "      <td>S</td>\n",
       "    </tr>\n",
       "    <tr>\n",
       "      <th>4</th>\n",
       "      <td>5</td>\n",
       "      <td>0</td>\n",
       "      <td>3</td>\n",
       "      <td>Allen, Mr. William Henry</td>\n",
       "      <td>male</td>\n",
       "      <td>35.0</td>\n",
       "      <td>0</td>\n",
       "      <td>0</td>\n",
       "      <td>373450</td>\n",
       "      <td>8.0500</td>\n",
       "      <td>NaN</td>\n",
       "      <td>S</td>\n",
       "    </tr>\n",
       "  </tbody>\n",
       "</table>\n",
       "</div>"
      ],
      "text/plain": [
       "   PassengerId  Survived  Pclass  \\\n",
       "0            1         0       3   \n",
       "1            2         1       1   \n",
       "2            3         1       3   \n",
       "3            4         1       1   \n",
       "4            5         0       3   \n",
       "\n",
       "                                                Name     Sex   Age  SibSp  \\\n",
       "0                            Braund, Mr. Owen Harris    male  22.0      1   \n",
       "1  Cumings, Mrs. John Bradley (Florence Briggs Th...  female  38.0      1   \n",
       "2                             Heikkinen, Miss. Laina  female  26.0      0   \n",
       "3       Futrelle, Mrs. Jacques Heath (Lily May Peel)  female  35.0      1   \n",
       "4                           Allen, Mr. William Henry    male  35.0      0   \n",
       "\n",
       "   Parch            Ticket     Fare Cabin Embarked  \n",
       "0      0         A/5 21171   7.2500   NaN        S  \n",
       "1      0          PC 17599  71.2833   C85        C  \n",
       "2      0  STON/O2. 3101282   7.9250   NaN        S  \n",
       "3      0            113803  53.1000  C123        S  \n",
       "4      0            373450   8.0500   NaN        S  "
      ]
     },
     "execution_count": 2,
     "metadata": {},
     "output_type": "execute_result"
    }
   ],
   "source": [
    "train = pd.read_csv('data/train.csv')\n",
    "test = pd.read_csv('data/test.csv')\n",
    "alldata = pd.concat([train, test])\n",
    "train_len = train.shape[0]\n",
    "\n",
    "train.head()"
   ]
  },
  {
   "cell_type": "markdown",
   "metadata": {},
   "source": [
    "**Explore the data**"
   ]
  },
  {
   "cell_type": "code",
   "execution_count": 3,
   "metadata": {
    "collapsed": false
   },
   "outputs": [
    {
     "data": {
      "text/html": [
       "<div>\n",
       "<style>\n",
       "    .dataframe thead tr:only-child th {\n",
       "        text-align: right;\n",
       "    }\n",
       "\n",
       "    .dataframe thead th {\n",
       "        text-align: left;\n",
       "    }\n",
       "\n",
       "    .dataframe tbody tr th {\n",
       "        vertical-align: top;\n",
       "    }\n",
       "</style>\n",
       "<table border=\"1\" class=\"dataframe\">\n",
       "  <thead>\n",
       "    <tr style=\"text-align: right;\">\n",
       "      <th></th>\n",
       "      <th>Age</th>\n",
       "      <th>Fare</th>\n",
       "      <th>Parch</th>\n",
       "      <th>PassengerId</th>\n",
       "      <th>Pclass</th>\n",
       "      <th>SibSp</th>\n",
       "      <th>Survived</th>\n",
       "    </tr>\n",
       "  </thead>\n",
       "  <tbody>\n",
       "    <tr>\n",
       "      <th>Age</th>\n",
       "      <td>1.000000</td>\n",
       "      <td>0.178740</td>\n",
       "      <td>-0.150917</td>\n",
       "      <td>0.028814</td>\n",
       "      <td>-0.408106</td>\n",
       "      <td>-0.243699</td>\n",
       "      <td>-0.077221</td>\n",
       "    </tr>\n",
       "    <tr>\n",
       "      <th>Fare</th>\n",
       "      <td>0.178740</td>\n",
       "      <td>1.000000</td>\n",
       "      <td>0.221539</td>\n",
       "      <td>0.031428</td>\n",
       "      <td>-0.558629</td>\n",
       "      <td>0.160238</td>\n",
       "      <td>0.257307</td>\n",
       "    </tr>\n",
       "    <tr>\n",
       "      <th>Parch</th>\n",
       "      <td>-0.150917</td>\n",
       "      <td>0.221539</td>\n",
       "      <td>1.000000</td>\n",
       "      <td>0.008942</td>\n",
       "      <td>0.018322</td>\n",
       "      <td>0.373587</td>\n",
       "      <td>0.081629</td>\n",
       "    </tr>\n",
       "    <tr>\n",
       "      <th>PassengerId</th>\n",
       "      <td>0.028814</td>\n",
       "      <td>0.031428</td>\n",
       "      <td>0.008942</td>\n",
       "      <td>1.000000</td>\n",
       "      <td>-0.038354</td>\n",
       "      <td>-0.055224</td>\n",
       "      <td>-0.005007</td>\n",
       "    </tr>\n",
       "    <tr>\n",
       "      <th>Pclass</th>\n",
       "      <td>-0.408106</td>\n",
       "      <td>-0.558629</td>\n",
       "      <td>0.018322</td>\n",
       "      <td>-0.038354</td>\n",
       "      <td>1.000000</td>\n",
       "      <td>0.060832</td>\n",
       "      <td>-0.338481</td>\n",
       "    </tr>\n",
       "    <tr>\n",
       "      <th>SibSp</th>\n",
       "      <td>-0.243699</td>\n",
       "      <td>0.160238</td>\n",
       "      <td>0.373587</td>\n",
       "      <td>-0.055224</td>\n",
       "      <td>0.060832</td>\n",
       "      <td>1.000000</td>\n",
       "      <td>-0.035322</td>\n",
       "    </tr>\n",
       "    <tr>\n",
       "      <th>Survived</th>\n",
       "      <td>-0.077221</td>\n",
       "      <td>0.257307</td>\n",
       "      <td>0.081629</td>\n",
       "      <td>-0.005007</td>\n",
       "      <td>-0.338481</td>\n",
       "      <td>-0.035322</td>\n",
       "      <td>1.000000</td>\n",
       "    </tr>\n",
       "  </tbody>\n",
       "</table>\n",
       "</div>"
      ],
      "text/plain": [
       "                  Age      Fare     Parch  PassengerId    Pclass     SibSp  \\\n",
       "Age          1.000000  0.178740 -0.150917     0.028814 -0.408106 -0.243699   \n",
       "Fare         0.178740  1.000000  0.221539     0.031428 -0.558629  0.160238   \n",
       "Parch       -0.150917  0.221539  1.000000     0.008942  0.018322  0.373587   \n",
       "PassengerId  0.028814  0.031428  0.008942     1.000000 -0.038354 -0.055224   \n",
       "Pclass      -0.408106 -0.558629  0.018322    -0.038354  1.000000  0.060832   \n",
       "SibSp       -0.243699  0.160238  0.373587    -0.055224  0.060832  1.000000   \n",
       "Survived    -0.077221  0.257307  0.081629    -0.005007 -0.338481 -0.035322   \n",
       "\n",
       "             Survived  \n",
       "Age         -0.077221  \n",
       "Fare         0.257307  \n",
       "Parch        0.081629  \n",
       "PassengerId -0.005007  \n",
       "Pclass      -0.338481  \n",
       "SibSp       -0.035322  \n",
       "Survived     1.000000  "
      ]
     },
     "execution_count": 3,
     "metadata": {},
     "output_type": "execute_result"
    }
   ],
   "source": [
    "alldata.corr()"
   ]
  },
  {
   "cell_type": "code",
   "execution_count": 4,
   "metadata": {
    "collapsed": false
   },
   "outputs": [
    {
     "data": {
      "text/html": [
       "<div>\n",
       "<style>\n",
       "    .dataframe thead tr:only-child th {\n",
       "        text-align: right;\n",
       "    }\n",
       "\n",
       "    .dataframe thead th {\n",
       "        text-align: left;\n",
       "    }\n",
       "\n",
       "    .dataframe tbody tr th {\n",
       "        vertical-align: top;\n",
       "    }\n",
       "</style>\n",
       "<table border=\"1\" class=\"dataframe\">\n",
       "  <thead>\n",
       "    <tr style=\"text-align: right;\">\n",
       "      <th></th>\n",
       "      <th>Age</th>\n",
       "      <th>Fare</th>\n",
       "      <th>Parch</th>\n",
       "      <th>PassengerId</th>\n",
       "      <th>Pclass</th>\n",
       "      <th>SibSp</th>\n",
       "      <th>Survived</th>\n",
       "    </tr>\n",
       "  </thead>\n",
       "  <tbody>\n",
       "    <tr>\n",
       "      <th>count</th>\n",
       "      <td>1046.000000</td>\n",
       "      <td>1308.000000</td>\n",
       "      <td>1309.000000</td>\n",
       "      <td>1309.000000</td>\n",
       "      <td>1309.000000</td>\n",
       "      <td>1309.000000</td>\n",
       "      <td>891.000000</td>\n",
       "    </tr>\n",
       "    <tr>\n",
       "      <th>mean</th>\n",
       "      <td>29.881138</td>\n",
       "      <td>33.295479</td>\n",
       "      <td>0.385027</td>\n",
       "      <td>655.000000</td>\n",
       "      <td>2.294882</td>\n",
       "      <td>0.498854</td>\n",
       "      <td>0.383838</td>\n",
       "    </tr>\n",
       "    <tr>\n",
       "      <th>std</th>\n",
       "      <td>14.413493</td>\n",
       "      <td>51.758668</td>\n",
       "      <td>0.865560</td>\n",
       "      <td>378.020061</td>\n",
       "      <td>0.837836</td>\n",
       "      <td>1.041658</td>\n",
       "      <td>0.486592</td>\n",
       "    </tr>\n",
       "    <tr>\n",
       "      <th>min</th>\n",
       "      <td>0.170000</td>\n",
       "      <td>0.000000</td>\n",
       "      <td>0.000000</td>\n",
       "      <td>1.000000</td>\n",
       "      <td>1.000000</td>\n",
       "      <td>0.000000</td>\n",
       "      <td>0.000000</td>\n",
       "    </tr>\n",
       "    <tr>\n",
       "      <th>25%</th>\n",
       "      <td>21.000000</td>\n",
       "      <td>7.895800</td>\n",
       "      <td>0.000000</td>\n",
       "      <td>328.000000</td>\n",
       "      <td>2.000000</td>\n",
       "      <td>0.000000</td>\n",
       "      <td>0.000000</td>\n",
       "    </tr>\n",
       "    <tr>\n",
       "      <th>50%</th>\n",
       "      <td>28.000000</td>\n",
       "      <td>14.454200</td>\n",
       "      <td>0.000000</td>\n",
       "      <td>655.000000</td>\n",
       "      <td>3.000000</td>\n",
       "      <td>0.000000</td>\n",
       "      <td>0.000000</td>\n",
       "    </tr>\n",
       "    <tr>\n",
       "      <th>75%</th>\n",
       "      <td>39.000000</td>\n",
       "      <td>31.275000</td>\n",
       "      <td>0.000000</td>\n",
       "      <td>982.000000</td>\n",
       "      <td>3.000000</td>\n",
       "      <td>1.000000</td>\n",
       "      <td>1.000000</td>\n",
       "    </tr>\n",
       "    <tr>\n",
       "      <th>max</th>\n",
       "      <td>80.000000</td>\n",
       "      <td>512.329200</td>\n",
       "      <td>9.000000</td>\n",
       "      <td>1309.000000</td>\n",
       "      <td>3.000000</td>\n",
       "      <td>8.000000</td>\n",
       "      <td>1.000000</td>\n",
       "    </tr>\n",
       "  </tbody>\n",
       "</table>\n",
       "</div>"
      ],
      "text/plain": [
       "               Age         Fare        Parch  PassengerId       Pclass  \\\n",
       "count  1046.000000  1308.000000  1309.000000  1309.000000  1309.000000   \n",
       "mean     29.881138    33.295479     0.385027   655.000000     2.294882   \n",
       "std      14.413493    51.758668     0.865560   378.020061     0.837836   \n",
       "min       0.170000     0.000000     0.000000     1.000000     1.000000   \n",
       "25%      21.000000     7.895800     0.000000   328.000000     2.000000   \n",
       "50%      28.000000    14.454200     0.000000   655.000000     3.000000   \n",
       "75%      39.000000    31.275000     0.000000   982.000000     3.000000   \n",
       "max      80.000000   512.329200     9.000000  1309.000000     3.000000   \n",
       "\n",
       "             SibSp    Survived  \n",
       "count  1309.000000  891.000000  \n",
       "mean      0.498854    0.383838  \n",
       "std       1.041658    0.486592  \n",
       "min       0.000000    0.000000  \n",
       "25%       0.000000    0.000000  \n",
       "50%       0.000000    0.000000  \n",
       "75%       1.000000    1.000000  \n",
       "max       8.000000    1.000000  "
      ]
     },
     "execution_count": 4,
     "metadata": {},
     "output_type": "execute_result"
    }
   ],
   "source": [
    "alldata.describe()"
   ]
  },
  {
   "cell_type": "code",
   "execution_count": 5,
   "metadata": {
    "collapsed": false
   },
   "outputs": [
    {
     "data": {
      "text/plain": [
       "<matplotlib.axes._subplots.AxesSubplot at 0x10b75cc18>"
      ]
     },
     "execution_count": 5,
     "metadata": {},
     "output_type": "execute_result"
    },
    {
     "data": {
      "image/png": "[encoded data removed]",
      "text/plain": [
       "<matplotlib.figure.Figure at 0x10b75c7f0>"
      ]
     },
     "metadata": {},
     "output_type": "display_data"
    }
   ],
   "source": [
    "alldata['Age'].hist()"
   ]
  },
  {
   "cell_type": "code",
   "execution_count": 6,
   "metadata": {
    "collapsed": false
   },
   "outputs": [
    {
     "data": {
      "text/plain": [
       "<matplotlib.axes._subplots.AxesSubplot at 0x10c572be0>"
      ]
     },
     "execution_count": 6,
     "metadata": {},
     "output_type": "execute_result"
    },
    {
     "data": {
      "image/png": "[encoded data removed]",
      "text/plain": [
       "<matplotlib.figure.Figure at 0x10b75ca58>"
      ]
     },
     "metadata": {},
     "output_type": "display_data"
    }
   ],
   "source": [
    "alldata['Pclass'].hist()"
   ]
  },
  {
   "cell_type": "code",
   "execution_count": 7,
   "metadata": {
    "collapsed": false
   },
   "outputs": [
    {
     "data": {
      "text/plain": [
       "<matplotlib.axes._subplots.AxesSubplot at 0x119984cc0>"
      ]
     },
     "execution_count": 7,
     "metadata": {},
     "output_type": "execute_result"
    },
    {
     "data": {
      "image/png": "[encoded data removed]",
      "text/plain": [
       "<matplotlib.figure.Figure at 0x119953128>"
      ]
     },
     "metadata": {},
     "output_type": "display_data"
    }
   ],
   "source": [
    "alldata['Fare'].hist()"
   ]
  },
  {
   "cell_type": "markdown",
   "metadata": {},
   "source": [
    "**Select features**"
   ]
  },
  {
   "cell_type": "code",
   "execution_count": 8,
   "metadata": {
    "collapsed": false
   },
   "outputs": [],
   "source": [
    "allinputdata = alldata[['Pclass', 'Age', 'SibSp', 'Parch', 'Fare']]"
   ]
  },
  {
   "cell_type": "markdown",
   "metadata": {},
   "source": [
    "**Turn categorical into numerical**"
   ]
  },
  {
   "cell_type": "code",
   "execution_count": 9,
   "metadata": {
    "collapsed": false
   },
   "outputs": [
    {
     "data": {
      "text/plain": [
       "Pclass      int64\n",
       "Age       float64\n",
       "SibSp       int64\n",
       "Parch       int64\n",
       "Fare      float64\n",
       "Sex_F       int64\n",
       "dtype: object"
      ]
     },
     "execution_count": 9,
     "metadata": {},
     "output_type": "execute_result"
    }
   ],
   "source": [
    "allinputdata['Sex_F'] = alldata.Sex.apply(lambda s: 1 if s.lower() == \"female\" else 0)\n",
    "allinputdata.dtypes"
   ]
  },
  {
   "cell_type": "markdown",
   "metadata": {},
   "source": [
    "**Find missing values**"
   ]
  },
  {
   "cell_type": "code",
   "execution_count": 10,
   "metadata": {
    "collapsed": false
   },
   "outputs": [
    {
     "data": {
      "text/plain": [
       "Age     263\n",
       "Fare      1\n",
       "dtype: int64"
      ]
     },
     "execution_count": 10,
     "metadata": {},
     "output_type": "execute_result"
    }
   ],
   "source": [
    "allinputdata.isnull().sum()[allinputdata.isnull().sum()>0]"
   ]
  },
  {
   "cell_type": "markdown",
   "metadata": {},
   "source": [
    "**Fill missing values**"
   ]
  },
  {
   "cell_type": "code",
   "execution_count": 11,
   "metadata": {
    "collapsed": false
   },
   "outputs": [],
   "source": [
    "allinputdata.Fare = allinputdata.Fare.fillna(allinputdata.Fare.mean())\n",
    "allinputdata.Age = allinputdata.Age.fillna(allinputdata.Age.mean())"
   ]
  },
  {
   "cell_type": "markdown",
   "metadata": {},
   "source": [
    "**Train SVC model and evaluate on training data**"
   ]
  },
  {
   "cell_type": "code",
   "execution_count": 12,
   "metadata": {
    "collapsed": false
   },
   "outputs": [],
   "source": [
    "traindata = allinputdata[:train_len]\n",
    "testdata = allinputdata[train_len:]\n",
    "labels = np.array(train['Survived'])"
   ]
  },
  {
   "cell_type": "code",
   "execution_count": 16,
   "metadata": {
    "collapsed": false,
    "scrolled": true
   },
   "outputs": [
    {
     "name": "stdout",
     "output_type": "stream",
     "text": [
      "{'svc__C': 10, 'svc__gamma': 0.1, 'svc__kernel': 'rbf'}\n",
      "0.830527497194\n",
      "accuracy = 0.840628507295\n",
      "             precision    recall  f1-score   support\n",
      "\n",
      "NotSurvived       0.84      0.91      0.88       549\n",
      "   Survived       0.84      0.72      0.78       342\n",
      "\n",
      "avg / total       0.84      0.84      0.84       891\n",
      "\n"
     ]
    }
   ],
   "source": [
    "svc=make_pipeline(StandardScaler(),SVC())\n",
    "\n",
    "hyperparam_grid = [{'svc__C':[5,10,15], 'svc__kernel':['linear']},\n",
    "     {'svc__C':[5,10,15,100], 'svc__gamma':[0.001, 0.01, 0.1], 'svc__kernel':['sigmoid']},\n",
    "     {'svc__C':[5,10,15,100], 'svc__gamma':[0.001, 0.01, 0.1], 'svc__kernel':['rbf']}]\n",
    "\n",
    "clf = GridSearchCV(estimator=svc, param_grid=hyperparam_grid, scoring='accuracy', cv=5, n_jobs=4)\n",
    "clf.fit(traindata, labels)\n",
    "print(clf.best_params_)\n",
    "print(clf.best_score_)\n",
    "\n",
    "train_predicted = clf.predict(traindata)\n",
    "train_actual = np.array(train['Survived'])\n",
    "accuracy = accuracy_score(train_actual, train_predicted)\n",
    "print(\"accuracy = \" + str(accuracy))\n",
    "\n",
    "target_names = ['NotSurvived', 'Survived']\n",
    "class_report = classification_report(train_actual, train_predicted, target_names=target_names)\n",
    "print(class_report)"
   ]
  },
  {
   "cell_type": "markdown",
   "metadata": {},
   "source": [
    "**Predict and create submission**"
   ]
  },
  {
   "cell_type": "code",
   "execution_count": null,
   "metadata": {
    "collapsed": true
   },
   "outputs": [],
   "source": [
    "test_predicted = clf.predict(testdata)\n",
    "submission = pd.DataFrame({'PassengerId': test['PassengerId'], 'Survived': test_predicted})\n",
    "submission.to_csv('submission1.csv', index=False)"
   ]
  },
  {
   "cell_type": "markdown",
   "metadata": {},
   "source": [
    "**Can I find a better answer in the RandomForests?**"
   ]
  },
  {
   "cell_type": "code",
   "execution_count": 17,
   "metadata": {
    "collapsed": true
   },
   "outputs": [],
   "source": [
    "from sklearn.ensemble import RandomForestClassifier\n",
    "from sklearn.model_selection import train_test_split\n",
    "from sklearn.pipeline import Pipeline\n",
    "from sklearn.ensemble import ExtraTreesClassifier"
   ]
  },
  {
   "cell_type": "code",
   "execution_count": 18,
   "metadata": {
    "collapsed": false
   },
   "outputs": [
    {
     "name": "stdout",
     "output_type": "stream",
     "text": [
      "{'clf': RandomForestClassifier(bootstrap=True, class_weight=None, criterion='gini',\n",
      "            max_depth=None, max_features='sqrt', max_leaf_nodes=None,\n",
      "            min_impurity_decrease=0.0, min_impurity_split=None,\n",
      "            min_samples_leaf=1, min_samples_split=2,\n",
      "            min_weight_fraction_leaf=0.0, n_estimators=50, n_jobs=1,\n",
      "            oob_score=False, random_state=None, verbose=0,\n",
      "            warm_start=False), 'clf__criterion': 'gini', 'clf__max_features': 'sqrt', 'clf__n_estimators': 50}\n",
      "0.816011235955\n",
      "train accuracy = 0.981741573034\n",
      "test accuracy = 0.821229050279\n",
      "Train class report:\n",
      "===================\n",
      "             precision    recall  f1-score   support\n",
      "\n",
      "NotSurvived       0.98      0.99      0.99       439\n",
      "   Survived       0.99      0.97      0.98       273\n",
      "\n",
      "avg / total       0.98      0.98      0.98       712\n",
      "\n",
      "Test class report:\n",
      "===================\n",
      "             precision    recall  f1-score   support\n",
      "\n",
      "NotSurvived       0.82      0.90      0.86       110\n",
      "   Survived       0.81      0.70      0.75        69\n",
      "\n",
      "avg / total       0.82      0.82      0.82       179\n",
      "\n"
     ]
    }
   ],
   "source": [
    "# Split the dataset into train and test to get a better understanding of model performance\n",
    "X_train, X_test, y_train, y_test = train_test_split(traindata, labels, test_size=0.2, random_state=0)\n",
    "\n",
    "pipe = Pipeline([('scaler', StandardScaler()), ('clf', RandomForestClassifier())])\n",
    "\n",
    "hyperparam_grid = [{'clf__n_estimators':[50,67,100,121], \n",
    "                    'clf__max_features':['log2','sqrt', 0.8],\n",
    "                    'clf__criterion':['gini','entropy'],\n",
    "                    'clf': [RandomForestClassifier(), ExtraTreesClassifier()]}]\n",
    "\n",
    "clf = GridSearchCV(estimator=pipe, param_grid=hyperparam_grid, scoring='accuracy', cv=5, n_jobs=4)\n",
    "clf.fit(X_train, y_train)\n",
    "print(clf.best_params_)\n",
    "print(clf.best_score_)\n",
    "\n",
    "train_predicted = clf.predict(X_train)\n",
    "train_actual = y_train\n",
    "accuracy = accuracy_score(train_actual, train_predicted)\n",
    "print(\"train accuracy = \" + str(accuracy))\n",
    "\n",
    "test_predicted = clf.predict(X_test)\n",
    "test_actual = y_test\n",
    "accuracy = accuracy_score(test_actual, test_predicted)\n",
    "print(\"test accuracy = \" + str(accuracy))\n",
    "\n",
    "target_names = ['NotSurvived', 'Survived']\n",
    "class_report = classification_report(train_actual, train_predicted, target_names=target_names)\n",
    "print('Train class report:')\n",
    "print('===================')\n",
    "print(class_report)\n",
    "\n",
    "class_report = classification_report(test_actual, test_predicted, target_names=target_names)\n",
    "print('Test class report:')\n",
    "print('===================')\n",
    "print(class_report)"
   ]
  },
  {
   "cell_type": "markdown",
   "metadata": {},
   "source": [
    "**What do the KNeighbors think?**"
   ]
  },
  {
   "cell_type": "code",
   "execution_count": 19,
   "metadata": {
    "collapsed": true
   },
   "outputs": [],
   "source": [
    "from sklearn.neighbors import KNeighborsClassifier"
   ]
  },
  {
   "cell_type": "code",
   "execution_count": 20,
   "metadata": {
    "collapsed": false
   },
   "outputs": [
    {
     "name": "stdout",
     "output_type": "stream",
     "text": [
      "{'clf__algorithm': 'auto', 'clf__n_neighbors': 11, 'clf__weights': 'uniform'}\n",
      "0.808454425363\n",
      "train accuracy = 0.836195508587\n",
      "test accuracy = 0.813432835821\n",
      "Train class report:\n",
      "===================\n",
      "             precision    recall  f1-score   support\n",
      "\n",
      "NotSurvived       0.85      0.89      0.87       470\n",
      "   Survived       0.81      0.75      0.78       287\n",
      "\n",
      "avg / total       0.83      0.84      0.83       757\n",
      "\n",
      "Test class report:\n",
      "===================\n",
      "             precision    recall  f1-score   support\n",
      "\n",
      "NotSurvived       0.81      0.90      0.85        79\n",
      "   Survived       0.83      0.69      0.75        55\n",
      "\n",
      "avg / total       0.81      0.81      0.81       134\n",
      "\n"
     ]
    }
   ],
   "source": [
    "X_train, X_test, y_train, y_test = train_test_split(traindata, labels, test_size=0.15, random_state=0)\n",
    "\n",
    "pipe = Pipeline([('scaler', StandardScaler()), ('clf', KNeighborsClassifier())])\n",
    "\n",
    "hyperparam_grid = [{'clf__n_neighbors':[3,7,9,11,13], \n",
    "                    'clf__algorithm':['auto', 'ball_tree', 'kd_tree', 'brute'],\n",
    "                    'clf__weights':['uniform','distance']}]\n",
    "\n",
    "clf = GridSearchCV(estimator=pipe, param_grid=hyperparam_grid, scoring='accuracy', cv=5, n_jobs=4)\n",
    "clf.fit(X_train, y_train)\n",
    "print(clf.best_params_)\n",
    "print(clf.best_score_)\n",
    "\n",
    "train_predicted = clf.predict(X_train)\n",
    "train_actual = y_train\n",
    "accuracy = accuracy_score(train_actual, train_predicted)\n",
    "print(\"train accuracy = \" + str(accuracy))\n",
    "\n",
    "test_predicted = clf.predict(X_test)\n",
    "test_actual = y_test\n",
    "accuracy = accuracy_score(test_actual, test_predicted)\n",
    "print(\"test accuracy = \" + str(accuracy))\n",
    "\n",
    "target_names = ['NotSurvived', 'Survived']\n",
    "class_report = classification_report(train_actual, train_predicted, target_names=target_names)\n",
    "print('Train class report:')\n",
    "print('===================')\n",
    "print(class_report)\n",
    "\n",
    "class_report = classification_report(test_actual, test_predicted, target_names=target_names)\n",
    "print('Test class report:')\n",
    "print('===================')\n",
    "print(class_report)"
   ]
  },
  {
   "cell_type": "markdown",
   "metadata": {},
   "source": [
    "**Maybe this algorithm can give me a GradientBoost?**"
   ]
  },
  {
   "cell_type": "code",
   "execution_count": 22,
   "metadata": {
    "collapsed": false
   },
   "outputs": [
    {
     "name": "stdout",
     "output_type": "stream",
     "text": [
      "{'clf__learning_rate': 0.05, 'clf__max_depth': 7, 'clf__n_estimators': 30, 'clf__subsample': 0.4}\n",
      "0.837078651685\n",
      "train accuracy = 0.900280898876\n",
      "test accuracy = 0.849162011173\n",
      "Train class report:\n",
      "===================\n",
      "             precision    recall  f1-score   support\n",
      "\n",
      "NotSurvived       0.88      0.97      0.92       439\n",
      "   Survived       0.95      0.78      0.86       273\n",
      "\n",
      "avg / total       0.90      0.90      0.90       712\n",
      "\n",
      "Test class report:\n",
      "===================\n",
      "             precision    recall  f1-score   support\n",
      "\n",
      "NotSurvived       0.83      0.95      0.89       110\n",
      "   Survived       0.89      0.70      0.78        69\n",
      "\n",
      "avg / total       0.85      0.85      0.84       179\n",
      "\n"
     ]
    }
   ],
   "source": [
    "from sklearn.ensemble import AdaBoostClassifier\n",
    "from sklearn.ensemble import GradientBoostingClassifier\n",
    "\n",
    "X_train, X_test, y_train, y_test = train_test_split(traindata, labels, test_size=0.2, random_state=0)\n",
    "\n",
    "pipe = Pipeline([('scaler', StandardScaler()), ('clf', GradientBoostingClassifier())])\n",
    "\n",
    "hyperparam_grid = [{'clf__n_estimators':[30,40,50,80,100], \n",
    "                    'clf__learning_rate':[0.01, 0.03, 0.05, 0.08],\n",
    "                    'clf__subsample':[0.4, 0.5],\n",
    "                    'clf__max_depth':[3,5,7,9]}]\n",
    "\n",
    "clf = GridSearchCV(estimator=pipe, param_grid=hyperparam_grid, scoring='accuracy', cv=5, n_jobs=4)\n",
    "clf.fit(X_train, y_train)\n",
    "print(clf.best_params_)\n",
    "print(clf.best_score_)\n",
    "#print(clf.best_estimator_[1].feature_importances_)\n",
    "\n",
    "train_predicted = clf.predict(X_train)\n",
    "train_actual = y_train\n",
    "accuracy = accuracy_score(train_actual, train_predicted)\n",
    "print(\"train accuracy = \" + str(accuracy))\n",
    "\n",
    "test_predicted = clf.predict(X_test)\n",
    "test_actual = y_test\n",
    "accuracy = accuracy_score(test_actual, test_predicted)\n",
    "print(\"test accuracy = \" + str(accuracy))\n",
    "\n",
    "target_names = ['NotSurvived', 'Survived']\n",
    "class_report = classification_report(train_actual, train_predicted, target_names=target_names)\n",
    "print('Train class report:')\n",
    "print('===================')\n",
    "print(class_report)\n",
    "\n",
    "class_report = classification_report(test_actual, test_predicted, target_names=target_names)\n",
    "print('Test class report:')\n",
    "print('===================')\n",
    "print(class_report)"
   ]
  },
  {
   "cell_type": "markdown",
   "metadata": {},
   "source": [
    "**All together now**"
   ]
  },
  {
   "cell_type": "code",
   "execution_count": 27,
   "metadata": {
    "collapsed": false
   },
   "outputs": [
    {
     "name": "stdout",
     "output_type": "stream",
     "text": [
      "train accuracy = 0.894662921348\n",
      "test accuracy = 0.843575418994\n",
      "Train class report:\n",
      "===================\n",
      "             precision    recall  f1-score   support\n",
      "\n",
      "NotSurvived       0.86      0.99      0.92       439\n",
      "   Survived       0.98      0.74      0.84       273\n",
      "\n",
      "avg / total       0.91      0.89      0.89       712\n",
      "\n",
      "Test class report:\n",
      "===================\n",
      "             precision    recall  f1-score   support\n",
      "\n",
      "NotSurvived       0.82      0.95      0.88       110\n",
      "   Survived       0.90      0.67      0.77        69\n",
      "\n",
      "avg / total       0.85      0.84      0.84       179\n",
      "\n"
     ]
    }
   ],
   "source": [
    "from sklearn.ensemble import VotingClassifier\n",
    "\n",
    "# svc, randomforest, kneighbors, gradientboosting, gaussianbayes\n",
    "svc = make_pipeline(StandardScaler(), SVC(C=10, gamma=0.1, kernel='rbf', probability=True))\n",
    "rndfor = make_pipeline(StandardScaler(), RandomForestClassifier(n_estimators=50, max_features='sqrt'))\n",
    "knc = make_pipeline(StandardScaler(), KNeighborsClassifier(weights='uniform', n_neighbors=11, algorithm='auto'))\n",
    "gbt = make_pipeline(StandardScaler(), GradientBoostingClassifier(n_estimators=30, subsample=0.5, \n",
    "                                                                 learning_rate=0.05, max_depth=7))\n",
    "\n",
    "clf = VotingClassifier(estimators=[('svc', svc), ('rndfor', rndfor), ('knc', knc), ('gbt', gbt)], \n",
    "                       voting='hard', n_jobs=4)\n",
    "\n",
    "clf.fit(X_train, y_train)\n",
    "\n",
    "train_predicted = clf.predict(X_train)\n",
    "train_actual = y_train\n",
    "accuracy = accuracy_score(train_actual, train_predicted)\n",
    "print(\"train accuracy = \" + str(accuracy))\n",
    "\n",
    "test_predicted = clf.predict(X_test)\n",
    "test_actual = y_test\n",
    "accuracy = accuracy_score(test_actual, test_predicted)\n",
    "print(\"test accuracy = \" + str(accuracy))\n",
    "\n",
    "target_names = ['NotSurvived', 'Survived']\n",
    "class_report = classification_report(train_actual, train_predicted, target_names=target_names)\n",
    "print('Train class report:')\n",
    "print('===================')\n",
    "print(class_report)\n",
    "\n",
    "class_report = classification_report(test_actual, test_predicted, target_names=target_names)\n",
    "print('Test class report:')\n",
    "print('===================')\n",
    "print(class_report)"
   ]
  },
  {
   "cell_type": "code",
   "execution_count": 25,
   "metadata": {
    "collapsed": true
   },
   "outputs": [],
   "source": [
    "test_predicted = clf.predict(testdata)\n",
    "submission = pd.DataFrame({'PassengerId': test['PassengerId'], 'Survived': test_predicted})\n",
    "submission.to_csv('submission2.csv', index=False)"
   ]
  },
  {
   "cell_type": "code",
   "execution_count": null,
   "metadata": {
    "collapsed": true
   },
   "outputs": [],
   "source": []
  }
 ],
 "metadata": {
  "kernelspec": {
   "display_name": "Python 3",
   "language": "python",
   "name": "python3"
  },
  "language_info": {
   "codemirror_mode": {
    "name": "ipython",
    "version": 3
   },
   "file_extension": ".py",
   "mimetype": "text/x-python",
   "name": "python",
   "nbconvert_exporter": "python",
   "pygments_lexer": "ipython3",
   "version": "3.6.2"
  }
 },
 "nbformat": 4,
 "nbformat_minor": 0
}
